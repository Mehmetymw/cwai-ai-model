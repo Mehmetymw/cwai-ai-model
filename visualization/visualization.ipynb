{
 "cells": [
  {
   "cell_type": "code",
   "execution_count": null,
   "metadata": {},
   "outputs": [
    {
     "name": "stderr",
     "output_type": "stream",
     "text": [
      "WARNING:absl:Compiled the loaded model, but the compiled metrics have yet to be built. `model.compile_metrics` will be empty until you train or evaluate the model.\n"
     ]
    },
    {
     "name": "stdout",
     "output_type": "stream",
     "text": [
      "WARNING:tensorflow:5 out of the last 5 calls to <function TensorFlowTrainer.make_predict_function.<locals>.one_step_on_data_distributed at 0x7f085c148940> triggered tf.function retracing. Tracing is expensive and the excessive number of tracings could be due to (1) creating @tf.function repeatedly in a loop, (2) passing tensors with different shapes, (3) passing Python objects instead of tensors. For (1), please define your @tf.function outside of the loop. For (2), @tf.function has reduce_retracing=True option that can avoid unnecessary retracing. For (3), please refer to https://www.tensorflow.org/guide/function#controlling_retracing and https://www.tensorflow.org/api_docs/python/tf/function for  more details.\n"
     ]
    },
    {
     "name": "stderr",
     "output_type": "stream",
     "text": [
      "WARNING:tensorflow:5 out of the last 5 calls to <function TensorFlowTrainer.make_predict_function.<locals>.one_step_on_data_distributed at 0x7f085c148940> triggered tf.function retracing. Tracing is expensive and the excessive number of tracings could be due to (1) creating @tf.function repeatedly in a loop, (2) passing tensors with different shapes, (3) passing Python objects instead of tensors. For (1), please define your @tf.function outside of the loop. For (2), @tf.function has reduce_retracing=True option that can avoid unnecessary retracing. For (3), please refer to https://www.tensorflow.org/guide/function#controlling_retracing and https://www.tensorflow.org/api_docs/python/tf/function for  more details.\n"
     ]
    },
    {
     "name": "stdout",
     "output_type": "stream",
     "text": [
      "\u001b[1m1/1\u001b[0m \u001b[32m━━━━━━━━━━━━━━━━━━━━\u001b[0m\u001b[37m\u001b[0m \u001b[1m2s\u001b[0m 2s/step\n",
      "['breakfast_burrito', 'macarons', 'churros', 'macaroni_and_cheese', 'fried_calamari']\n"
     ]
    }
   ],
   "source": [
    "import tensorflow as tf\n",
    "import numpy as np\n",
    "from PIL import Image\n",
    "import io\n",
    "import json\n",
    "\n",
    "# Eğitilmiş gıda tanıma modelinin yüklenmesi\n",
    "food_model = tf.keras.models.load_model(\"../models/weights/food_weights.h5\")\n",
    "\n",
    "# Görüntüyü yükleyin ve ön işleme yapın\n",
    "with open(\"../data/test/donut.jpg\", \"rb\") as file:\n",
    "    image = Image.open(io.BytesIO(file.read())).convert(\"RGB\").resize((224, 224))\n",
    "    \n",
    "# Görüntüyü modelin beklediği formatta bir tensöre çevirin\n",
    "input_arr = np.array(image)[np.newaxis, ...] / 255.0\n",
    "\n",
    "# Model tahminini yapın\n",
    "predictions = food_model.predict(input_arr)\n",
    "\n",
    "# En olası 5 sınıfı alın\n",
    "predicted_classes = np.argsort(predictions[0])[-5:][::-1]  # En yüksek olasılıktan en düşüğe sıralama\n",
    "\n",
    "# labels.json dosyasını yükleme\n",
    "with open(\"../data/labels.json\", \"r\") as f:\n",
    "    labels = json.load(f)\n",
    "\n",
    "# Tahmin edilen sınıf indeksleriyle isimleri eşleştirme\n",
    "predicted_class_names = [labels[\"classes\"][i] for i in predicted_classes]\n",
    "print(predicted_class_names)\n"
   ]
  }
 ],
 "metadata": {
  "kernelspec": {
   "display_name": "Python 3",
   "language": "python",
   "name": "python3"
  },
  "language_info": {
   "codemirror_mode": {
    "name": "ipython",
    "version": 3
   },
   "file_extension": ".py",
   "mimetype": "text/x-python",
   "name": "python",
   "nbconvert_exporter": "python",
   "pygments_lexer": "ipython3",
   "version": "3.10.12"
  }
 },
 "nbformat": 4,
 "nbformat_minor": 2
}
